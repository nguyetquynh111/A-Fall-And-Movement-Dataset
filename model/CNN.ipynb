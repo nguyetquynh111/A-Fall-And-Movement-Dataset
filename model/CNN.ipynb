{
  "cells": [
    {
      "cell_type": "code",
      "execution_count": null,
      "metadata": {
        "id": "lc2jQ9i8XvcU",
        "colab": {
          "base_uri": "https://localhost:8080/"
        },
        "outputId": "0df18781-bd4f-4e12-9e69-cca20e4a04af"
      },
      "outputs": [
        {
          "output_type": "stream",
          "name": "stdout",
          "text": [
            "Requirement already satisfied: tensorflow_addons in /usr/local/lib/python3.10/dist-packages (0.23.0)\n",
            "Requirement already satisfied: packaging in /usr/local/lib/python3.10/dist-packages (from tensorflow_addons) (24.0)\n",
            "Requirement already satisfied: typeguard<3.0.0,>=2.7 in /usr/local/lib/python3.10/dist-packages (from tensorflow_addons) (2.13.3)\n"
          ]
        }
      ],
      "source": [
        "!pip install tensorflow_addons"
      ]
    },
    {
      "cell_type": "code",
      "execution_count": null,
      "metadata": {
        "id": "Pbz4RdVtQ956"
      },
      "outputs": [],
      "source": [
        "import tensorflow as tf\n",
        "import datetime\n",
        "import numpy as np\n",
        "import os\n",
        "import matplotlib.pyplot as plt\n",
        "import cv2\n",
        "import pickle\n",
        "from pathlib import Path\n",
        "from tqdm import tqdm\n",
        "from imblearn.over_sampling import SMOTE\n",
        "from sklearn.utils import shuffle\n",
        "from sklearn.preprocessing import OneHotEncoder\n",
        "from imblearn.over_sampling import SMOTE\n",
        "from collections import Counter\n",
        "from sklearn.model_selection import train_test_split\n",
        "import tensorflow as tf"
      ]
    },
    {
      "cell_type": "code",
      "source": [
        "from tensorflow import keras\n",
        "from keras import Sequential, Model\n",
        "from keras.layers import Dense, Dropout, Activation, \\\n",
        "Flatten, Input, Conv2D, MaxPooling2D, Conv1D, MaxPooling1D,BatchNormalization, Dropout\n",
        "from keras.optimizers import SGD, Adam\n",
        "from keras.utils import to_categorical\n",
        "from keras.callbacks import ModelCheckpoint, EarlyStopping, LearningRateScheduler\n",
        "\n",
        "from keras.metrics import CategoricalAccuracy, Recall, Precision\n",
        "from tensorflow_addons.metrics import F1Score"
      ],
      "metadata": {
        "id": "ipYlTgJuo4Ys",
        "colab": {
          "base_uri": "https://localhost:8080/"
        },
        "outputId": "7ad748f6-6f87-49e7-ec77-4d26928a364e"
      },
      "execution_count": null,
      "outputs": [
        {
          "output_type": "stream",
          "name": "stderr",
          "text": [
            "/usr/local/lib/python3.10/dist-packages/tensorflow_addons/utils/tfa_eol_msg.py:23: UserWarning: \n",
            "\n",
            "TensorFlow Addons (TFA) has ended development and introduction of new features.\n",
            "TFA has entered a minimal maintenance and release mode until a planned end of life in May 2024.\n",
            "Please modify downstream libraries to take dependencies from other repositories in our TensorFlow community (e.g. Keras, Keras-CV, and Keras-NLP). \n",
            "\n",
            "For more information see: https://github.com/tensorflow/addons/issues/2807 \n",
            "\n",
            "  warnings.warn(\n"
          ]
        }
      ]
    },
    {
      "cell_type": "code",
      "source": [
        "IMAGE_HEIGHT = 32\n",
        "IMAGE_WIDTH = 32"
      ],
      "metadata": {
        "id": "pAaUTCdfdmNb"
      },
      "execution_count": null,
      "outputs": []
    },
    {
      "cell_type": "code",
      "execution_count": null,
      "metadata": {
        "id": "zNcnR9ZFpMlX"
      },
      "outputs": [],
      "source": [
        "LABELS = [\"ForwardFall\", \"BackwardFall\", \"LeftFall\", \"RightFall\", \"GetDown\", \"SitDown\", \"Walk\"]\n",
        "LABEL2INDEX = dict(zip(LABELS, range(len(LABELS))))\n",
        "INDEX2LABEL = dict(zip(range(len(LABELS)), LABELS))"
      ]
    },
    {
      "cell_type": "code",
      "source": [
        "def build_model(img_height=IMAGE_HEIGHT, img_width=IMAGE_WIDTH, initial_filter=2**5,num_classes=7):\n",
        "  model = Sequential()\n",
        "  # First\n",
        "  model.add(Conv2D(filters=initial_filter, kernel_size=(3, 3),\n",
        "                   activation=tf.nn.relu,\n",
        "                   input_shape=(img_height, img_width, 1)))\n",
        "  model.add(MaxPooling2D(pool_size=(2, 2)))\n",
        "  model.add(BatchNormalization())\n",
        "  # Second\n",
        "  model.add(Conv2D(filters=initial_filter * 2, kernel_size=(3, 3),\n",
        "                   activation=tf.nn.relu))\n",
        "  model.add(MaxPooling2D(pool_size=(2, 2)))\n",
        "  model.add(BatchNormalization())\n",
        "  # Third\n",
        "  model.add(Conv2D(filters=initial_filter * 2**2, kernel_size=(3, 3),\n",
        "                   activation=tf.nn.relu))\n",
        "  model.add(MaxPooling2D(pool_size=(2, 2)))\n",
        "  model.add(BatchNormalization())\n",
        "\n",
        "  model.add(Flatten())\n",
        "  model.add(Dense(100, activation=tf.nn.relu, kernel_regularizer=tf.keras.regularizers.l2(0.001)))\n",
        "  model.add(BatchNormalization())\n",
        "  model.add(Dropout(rate=0.5))\n",
        "\n",
        "  model.add(Dense(50, activation=tf.nn.relu, kernel_regularizer=tf.keras.regularizers.l2(0.001)))\n",
        "  model.add(BatchNormalization())\n",
        "  model.add(Dropout(rate=0.5))\n",
        "  model.add(Dense(num_classes, activation=tf.nn.softmax))\n",
        "\n",
        "  model.compile(optimizer = tf.keras.optimizers.Adam(),\n",
        "                loss='categorical_crossentropy',\n",
        "                metrics=[\n",
        "                    CategoricalAccuracy(name='categorical_acc'),\n",
        "                    Precision(name='pre'),\n",
        "                    Recall(name='recall'),\n",
        "                    F1Score(num_classes=num_classes, average='weighted', name='f1')\n",
        "                ])\n",
        "\n",
        "  return model"
      ],
      "metadata": {
        "id": "hrAihyI-o7m4"
      },
      "execution_count": null,
      "outputs": []
    },
    {
      "cell_type": "code",
      "source": [
        "def load_dataset(ds_name):\n",
        "  with open(ds_name + '/element_spec', 'rb') as in_:\n",
        "    es = pickle.load(in_)\n",
        "\n",
        "  dataset = tf.data.Dataset.load(\n",
        "      ds_name, es, compression='GZIP'\n",
        "  )\n",
        "  return dataset"
      ],
      "metadata": {
        "id": "QsTgjGr8dBTZ"
      },
      "execution_count": null,
      "outputs": []
    },
    {
      "cell_type": "markdown",
      "source": [
        "# 7 labels"
      ],
      "metadata": {
        "id": "9MdCI8soOVV9"
      }
    },
    {
      "cell_type": "code",
      "source": [
        "train_ds = load_dataset(\"train\")\n",
        "val_ds = load_dataset(\"val\")\n",
        "test_ds = load_dataset(\"test\")"
      ],
      "metadata": {
        "id": "MX8GvYjSPSuR"
      },
      "execution_count": null,
      "outputs": []
    },
    {
      "cell_type": "code",
      "source": [
        "train_size = len(train_ds)\n",
        "val_size = len(val_ds)\n",
        "test_size = len(test_ds)\n",
        "print(f'Train Size: {train_size}\\nValidation Size: {val_size}\\nTest Size: {test_size}')"
      ],
      "metadata": {
        "id": "0i1rqnT6bFCs",
        "colab": {
          "base_uri": "https://localhost:8080/"
        },
        "outputId": "338a89a2-5d7b-42b1-9bc8-64f8b4253ca9"
      },
      "execution_count": null,
      "outputs": [
        {
          "output_type": "stream",
          "name": "stdout",
          "text": [
            "Train Size: 65399\n",
            "Validation Size: 26174\n",
            "Test Size: 17182\n"
          ]
        }
      ]
    },
    {
      "cell_type": "code",
      "source": [
        "def one_hot_encode_label(label):\n",
        "  label = tf.cast(label, dtype=tf.int32)\n",
        "  return tf.one_hot(label, depth=7)\n",
        "\n",
        "def process_image(image):\n",
        "  image = image/255.0\n",
        "  return image\n",
        "\n",
        "train_ds = train_ds.map(lambda x, y: (process_image(x), one_hot_encode_label(y)))\n",
        "val_ds = val_ds.map(lambda x, y: (process_image(x), one_hot_encode_label(y)))\n",
        "test_ds = test_ds.map(lambda x, y: (process_image(x), one_hot_encode_label(y)))"
      ],
      "metadata": {
        "id": "Np7Ax47vOXBU"
      },
      "execution_count": null,
      "outputs": []
    },
    {
      "cell_type": "code",
      "execution_count": null,
      "metadata": {
        "id": "pH9W12RWOCp3"
      },
      "outputs": [],
      "source": [
        "AUTOTUNE = tf.data.AUTOTUNE\n",
        "train_ds = train_ds.cache().batch(batch_size=2**9).prefetch(buffer_size=AUTOTUNE)\n",
        "val_ds = val_ds.cache().batch(batch_size=2**9).prefetch(buffer_size=AUTOTUNE)\n",
        "test_ds = test_ds.cache().batch(batch_size=2**9).prefetch(buffer_size=AUTOTUNE)"
      ]
    },
    {
      "cell_type": "code",
      "execution_count": null,
      "metadata": {
        "id": "aNM2268pV0Td",
        "colab": {
          "base_uri": "https://localhost:8080/"
        },
        "outputId": "276a208b-4003-46c4-cf7e-301c423a7900"
      },
      "outputs": [
        {
          "output_type": "stream",
          "name": "stdout",
          "text": [
            "Model: \"sequential\"\n",
            "_________________________________________________________________\n",
            " Layer (type)                Output Shape              Param #   \n",
            "=================================================================\n",
            " conv2d (Conv2D)             (None, 30, 30, 32)        320       \n",
            "                                                                 \n",
            " max_pooling2d (MaxPooling2  (None, 15, 15, 32)        0         \n",
            " D)                                                              \n",
            "                                                                 \n",
            " batch_normalization (Batch  (None, 15, 15, 32)        128       \n",
            " Normalization)                                                  \n",
            "                                                                 \n",
            " conv2d_1 (Conv2D)           (None, 13, 13, 64)        18496     \n",
            "                                                                 \n",
            " max_pooling2d_1 (MaxPoolin  (None, 6, 6, 64)          0         \n",
            " g2D)                                                            \n",
            "                                                                 \n",
            " batch_normalization_1 (Bat  (None, 6, 6, 64)          256       \n",
            " chNormalization)                                                \n",
            "                                                                 \n",
            " conv2d_2 (Conv2D)           (None, 4, 4, 128)         73856     \n",
            "                                                                 \n",
            " max_pooling2d_2 (MaxPoolin  (None, 2, 2, 128)         0         \n",
            " g2D)                                                            \n",
            "                                                                 \n",
            " batch_normalization_2 (Bat  (None, 2, 2, 128)         512       \n",
            " chNormalization)                                                \n",
            "                                                                 \n",
            " flatten (Flatten)           (None, 512)               0         \n",
            "                                                                 \n",
            " dense (Dense)               (None, 100)               51300     \n",
            "                                                                 \n",
            " batch_normalization_3 (Bat  (None, 100)               400       \n",
            " chNormalization)                                                \n",
            "                                                                 \n",
            " dropout (Dropout)           (None, 100)               0         \n",
            "                                                                 \n",
            " dense_1 (Dense)             (None, 50)                5050      \n",
            "                                                                 \n",
            " batch_normalization_4 (Bat  (None, 50)                200       \n",
            " chNormalization)                                                \n",
            "                                                                 \n",
            " dropout_1 (Dropout)         (None, 50)                0         \n",
            "                                                                 \n",
            " dense_2 (Dense)             (None, 7)                 357       \n",
            "                                                                 \n",
            "=================================================================\n",
            "Total params: 150875 (589.36 KB)\n",
            "Trainable params: 150127 (586.43 KB)\n",
            "Non-trainable params: 748 (2.92 KB)\n",
            "_________________________________________________________________\n"
          ]
        }
      ],
      "source": [
        "cnn_model = build_model(num_classes=7)\n",
        "cnn_model.summary()"
      ]
    },
    {
      "cell_type": "code",
      "execution_count": null,
      "metadata": {
        "id": "q9s94sFmXdlq"
      },
      "outputs": [],
      "source": [
        "today = str(datetime.date.today())\n",
        "f1_modelcheckpoint_callback = ModelCheckpoint(\n",
        "    today + 'cnn_model',\n",
        "    monitor='val_f1',\n",
        "    verbose=1,\n",
        "    save_best_only=True,\n",
        "    mode='max'\n",
        ")\n",
        "\n",
        "f1_early_stopping_callback = EarlyStopping(\n",
        "    monitor='val_f1',\n",
        "    patience=10,\n",
        "    mode='max',\n",
        "    restore_best_weights=True,\n",
        "    verbose=1\n",
        ")"
      ]
    },
    {
      "cell_type": "code",
      "source": [
        "history = cnn_model.fit(\n",
        "    train_ds,\n",
        "    epochs=30,\n",
        "    validation_data=val_ds,\n",
        "    callbacks=[\n",
        "        f1_modelcheckpoint_callback,\n",
        "        f1_early_stopping_callback\n",
        "    ]\n",
        ")"
      ],
      "metadata": {
        "id": "Yin-LvP1GBjn",
        "colab": {
          "base_uri": "https://localhost:8080/"
        },
        "outputId": "5d459f1a-0179-42eb-f9ac-d3dd64850531"
      },
      "execution_count": null,
      "outputs": [
        {
          "output_type": "stream",
          "name": "stdout",
          "text": [
            "Epoch 1/30\n",
            "128/128 [==============================] - ETA: 0s - loss: 2.6159 - categorical_acc: 0.2352 - pre: 0.2755 - recall: 0.1108 - f1: 0.2320\n",
            "Epoch 1: val_f1 improved from -inf to 0.11817, saving model to 2024-04-14cnn_model\n",
            "128/128 [==============================] - 39s 194ms/step - loss: 2.6159 - categorical_acc: 0.2352 - pre: 0.2755 - recall: 0.1108 - f1: 0.2320 - val_loss: 2.3262 - val_categorical_acc: 0.2611 - val_pre: 0.0000e+00 - val_recall: 0.0000e+00 - val_f1: 0.1182\n",
            "Epoch 2/30\n",
            "125/128 [============================>.] - ETA: 0s - loss: 2.0049 - categorical_acc: 0.3705 - pre: 0.4689 - recall: 0.1714 - f1: 0.3669\n",
            "Epoch 2: val_f1 improved from 0.11817 to 0.20193, saving model to 2024-04-14cnn_model\n",
            "128/128 [==============================] - 6s 44ms/step - loss: 1.9958 - categorical_acc: 0.3724 - pre: 0.4720 - recall: 0.1729 - f1: 0.3687 - val_loss: 2.2696 - val_categorical_acc: 0.3235 - val_pre: 1.0000 - val_recall: 4.5847e-04 - val_f1: 0.2019\n",
            "Epoch 3/30\n",
            "125/128 [============================>.] - ETA: 0s - loss: 1.7228 - categorical_acc: 0.4670 - pre: 0.6028 - recall: 0.2477 - f1: 0.4635\n",
            "Epoch 3: val_f1 improved from 0.20193 to 0.24521, saving model to 2024-04-14cnn_model\n",
            "128/128 [==============================] - 5s 42ms/step - loss: 1.7158 - categorical_acc: 0.4686 - pre: 0.6049 - recall: 0.2490 - f1: 0.4650 - val_loss: 1.9870 - val_categorical_acc: 0.3847 - val_pre: 0.3528 - val_recall: 0.0078 - val_f1: 0.2452\n",
            "Epoch 4/30\n",
            "127/128 [============================>.] - ETA: 0s - loss: 1.5221 - categorical_acc: 0.5487 - pre: 0.7080 - recall: 0.3291 - f1: 0.5455\n",
            "Epoch 4: val_f1 improved from 0.24521 to 0.27497, saving model to 2024-04-14cnn_model\n",
            "128/128 [==============================] - 4s 35ms/step - loss: 1.5208 - categorical_acc: 0.5489 - pre: 0.7082 - recall: 0.3291 - f1: 0.5456 - val_loss: 1.8326 - val_categorical_acc: 0.3336 - val_pre: 0.7048 - val_recall: 0.1822 - val_f1: 0.2750\n",
            "Epoch 5/30\n",
            "126/128 [============================>.] - ETA: 0s - loss: 1.3686 - categorical_acc: 0.6142 - pre: 0.7703 - recall: 0.4097 - f1: 0.6110\n",
            "Epoch 5: val_f1 improved from 0.27497 to 0.73254, saving model to 2024-04-14cnn_model\n",
            "128/128 [==============================] - 5s 38ms/step - loss: 1.3662 - categorical_acc: 0.6144 - pre: 0.7706 - recall: 0.4100 - f1: 0.6111 - val_loss: 1.0822 - val_categorical_acc: 0.7282 - val_pre: 0.8983 - val_recall: 0.4899 - val_f1: 0.7325\n",
            "Epoch 6/30\n",
            "128/128 [==============================] - ETA: 0s - loss: 1.2478 - categorical_acc: 0.6653 - pre: 0.8078 - recall: 0.4812 - f1: 0.6627\n",
            "Epoch 6: val_f1 improved from 0.73254 to 0.86389, saving model to 2024-04-14cnn_model\n",
            "128/128 [==============================] - 5s 38ms/step - loss: 1.2478 - categorical_acc: 0.6653 - pre: 0.8078 - recall: 0.4812 - f1: 0.6627 - val_loss: 0.6852 - val_categorical_acc: 0.8660 - val_pre: 0.9263 - val_recall: 0.8040 - val_f1: 0.8639\n",
            "Epoch 7/30\n",
            "126/128 [============================>.] - ETA: 0s - loss: 1.1577 - categorical_acc: 0.6991 - pre: 0.8321 - recall: 0.5369 - f1: 0.6968\n",
            "Epoch 7: val_f1 did not improve from 0.86389\n",
            "128/128 [==============================] - 2s 18ms/step - loss: 1.1553 - categorical_acc: 0.6990 - pre: 0.8319 - recall: 0.5367 - f1: 0.6966 - val_loss: 0.6360 - val_categorical_acc: 0.8620 - val_pre: 0.8943 - val_recall: 0.8152 - val_f1: 0.8595\n",
            "Epoch 8/30\n",
            "125/128 [============================>.] - ETA: 0s - loss: 1.0957 - categorical_acc: 0.7209 - pre: 0.8413 - recall: 0.5769 - f1: 0.7193\n",
            "Epoch 8: val_f1 improved from 0.86389 to 0.87973, saving model to 2024-04-14cnn_model\n",
            "128/128 [==============================] - 4s 34ms/step - loss: 1.0914 - categorical_acc: 0.7216 - pre: 0.8413 - recall: 0.5773 - f1: 0.7200 - val_loss: 0.5422 - val_categorical_acc: 0.8818 - val_pre: 0.9088 - val_recall: 0.8657 - val_f1: 0.8797\n",
            "Epoch 9/30\n",
            "128/128 [==============================] - ETA: 0s - loss: 1.0348 - categorical_acc: 0.7376 - pre: 0.8491 - recall: 0.6141 - f1: 0.7360\n",
            "Epoch 9: val_f1 did not improve from 0.87973\n",
            "128/128 [==============================] - 3s 22ms/step - loss: 1.0348 - categorical_acc: 0.7376 - pre: 0.8491 - recall: 0.6141 - f1: 0.7360 - val_loss: 0.5734 - val_categorical_acc: 0.8751 - val_pre: 0.8992 - val_recall: 0.8477 - val_f1: 0.8738\n",
            "Epoch 10/30\n",
            "127/128 [============================>.] - ETA: 0s - loss: 0.9737 - categorical_acc: 0.7550 - pre: 0.8584 - recall: 0.6440 - f1: 0.7535\n",
            "Epoch 10: val_f1 did not improve from 0.87973\n",
            "128/128 [==============================] - 2s 17ms/step - loss: 0.9732 - categorical_acc: 0.7551 - pre: 0.8586 - recall: 0.6438 - f1: 0.7536 - val_loss: 0.5434 - val_categorical_acc: 0.8677 - val_pre: 0.8835 - val_recall: 0.8501 - val_f1: 0.8664\n",
            "Epoch 11/30\n",
            "128/128 [==============================] - ETA: 0s - loss: 0.9440 - categorical_acc: 0.7626 - pre: 0.8593 - recall: 0.6604 - f1: 0.7614\n",
            "Epoch 11: val_f1 improved from 0.87973 to 0.90107, saving model to 2024-04-14cnn_model\n",
            "128/128 [==============================] - 5s 37ms/step - loss: 0.9440 - categorical_acc: 0.7626 - pre: 0.8593 - recall: 0.6604 - f1: 0.7614 - val_loss: 0.4660 - val_categorical_acc: 0.9027 - val_pre: 0.9184 - val_recall: 0.8902 - val_f1: 0.9011\n",
            "Epoch 12/30\n",
            "127/128 [============================>.] - ETA: 0s - loss: 0.9242 - categorical_acc: 0.7670 - pre: 0.8592 - recall: 0.6769 - f1: 0.7658\n",
            "Epoch 12: val_f1 did not improve from 0.90107\n",
            "128/128 [==============================] - 2s 19ms/step - loss: 0.9236 - categorical_acc: 0.7671 - pre: 0.8592 - recall: 0.6764 - f1: 0.7658 - val_loss: 0.6101 - val_categorical_acc: 0.8346 - val_pre: 0.8589 - val_recall: 0.7969 - val_f1: 0.8328\n",
            "Epoch 13/30\n",
            "125/128 [============================>.] - ETA: 0s - loss: 0.8852 - categorical_acc: 0.7757 - pre: 0.8643 - recall: 0.6888 - f1: 0.7747\n",
            "Epoch 13: val_f1 did not improve from 0.90107\n",
            "128/128 [==============================] - 3s 20ms/step - loss: 0.8806 - categorical_acc: 0.7770 - pre: 0.8650 - recall: 0.6902 - f1: 0.7760 - val_loss: 0.4930 - val_categorical_acc: 0.8952 - val_pre: 0.9098 - val_recall: 0.8855 - val_f1: 0.8924\n",
            "Epoch 14/30\n",
            "128/128 [==============================] - ETA: 0s - loss: 0.8460 - categorical_acc: 0.7880 - pre: 0.8713 - recall: 0.7061 - f1: 0.7869\n",
            "Epoch 14: val_f1 did not improve from 0.90107\n",
            "128/128 [==============================] - 2s 17ms/step - loss: 0.8460 - categorical_acc: 0.7880 - pre: 0.8713 - recall: 0.7061 - f1: 0.7869 - val_loss: 0.5793 - val_categorical_acc: 0.8623 - val_pre: 0.8748 - val_recall: 0.8437 - val_f1: 0.8616\n",
            "Epoch 15/30\n",
            "128/128 [==============================] - ETA: 0s - loss: 0.8018 - categorical_acc: 0.7997 - pre: 0.8778 - recall: 0.7238 - f1: 0.7986\n",
            "Epoch 15: val_f1 did not improve from 0.90107\n",
            "128/128 [==============================] - 2s 17ms/step - loss: 0.8018 - categorical_acc: 0.7997 - pre: 0.8778 - recall: 0.7238 - f1: 0.7986 - val_loss: 0.6029 - val_categorical_acc: 0.8670 - val_pre: 0.8890 - val_recall: 0.8565 - val_f1: 0.8648\n",
            "Epoch 16/30\n",
            "128/128 [==============================] - ETA: 0s - loss: 0.7642 - categorical_acc: 0.8134 - pre: 0.8859 - recall: 0.7448 - f1: 0.8125\n",
            "Epoch 16: val_f1 did not improve from 0.90107\n",
            "128/128 [==============================] - 2s 17ms/step - loss: 0.7642 - categorical_acc: 0.8134 - pre: 0.8859 - recall: 0.7448 - f1: 0.8125 - val_loss: 0.5754 - val_categorical_acc: 0.8778 - val_pre: 0.8867 - val_recall: 0.8712 - val_f1: 0.8753\n",
            "Epoch 17/30\n",
            "125/128 [============================>.] - ETA: 0s - loss: 0.7393 - categorical_acc: 0.8188 - pre: 0.8899 - recall: 0.7546 - f1: 0.8179\n",
            "Epoch 17: val_f1 did not improve from 0.90107\n",
            "128/128 [==============================] - 2s 17ms/step - loss: 0.7344 - categorical_acc: 0.8200 - pre: 0.8908 - recall: 0.7558 - f1: 0.8191 - val_loss: 0.6320 - val_categorical_acc: 0.8680 - val_pre: 0.8814 - val_recall: 0.8601 - val_f1: 0.8613\n",
            "Epoch 18/30\n",
            "125/128 [============================>.] - ETA: 0s - loss: 0.7373 - categorical_acc: 0.8149 - pre: 0.8846 - recall: 0.7536 - f1: 0.8141\n",
            "Epoch 18: val_f1 did not improve from 0.90107\n",
            "128/128 [==============================] - 3s 20ms/step - loss: 0.7319 - categorical_acc: 0.8166 - pre: 0.8856 - recall: 0.7553 - f1: 0.8158 - val_loss: 0.6017 - val_categorical_acc: 0.8781 - val_pre: 0.8915 - val_recall: 0.8659 - val_f1: 0.8765\n",
            "Epoch 19/30\n",
            "126/128 [============================>.] - ETA: 0s - loss: 0.7216 - categorical_acc: 0.8189 - pre: 0.8890 - recall: 0.7598 - f1: 0.8181\n",
            "Epoch 19: val_f1 did not improve from 0.90107\n",
            "128/128 [==============================] - 2s 18ms/step - loss: 0.7183 - categorical_acc: 0.8200 - pre: 0.8897 - recall: 0.7609 - f1: 0.8191 - val_loss: 0.5976 - val_categorical_acc: 0.8704 - val_pre: 0.8831 - val_recall: 0.8524 - val_f1: 0.8683\n",
            "Epoch 20/30\n",
            "125/128 [============================>.] - ETA: 0s - loss: 0.6777 - categorical_acc: 0.8284 - pre: 0.8969 - recall: 0.7715 - f1: 0.8276\n",
            "Epoch 20: val_f1 did not improve from 0.90107\n",
            "128/128 [==============================] - 2s 17ms/step - loss: 0.6722 - categorical_acc: 0.8302 - pre: 0.8979 - recall: 0.7733 - f1: 0.8294 - val_loss: 0.5485 - val_categorical_acc: 0.8882 - val_pre: 0.8925 - val_recall: 0.8837 - val_f1: 0.8855\n",
            "Epoch 21/30\n",
            "127/128 [============================>.] - ETA: 0s - loss: 0.6479 - categorical_acc: 0.8372 - pre: 0.9007 - recall: 0.7834 - f1: 0.8365\n",
            "Epoch 21: val_f1 did not improve from 0.90107\n",
            "Restoring model weights from the end of the best epoch: 11.\n",
            "128/128 [==============================] - 2s 17ms/step - loss: 0.6469 - categorical_acc: 0.8376 - pre: 0.9010 - recall: 0.7837 - f1: 0.8369 - val_loss: 0.6097 - val_categorical_acc: 0.8662 - val_pre: 0.8714 - val_recall: 0.8600 - val_f1: 0.8636\n",
            "Epoch 21: early stopping\n"
          ]
        }
      ]
    },
    {
      "cell_type": "code",
      "source": [
        "print(history.history.keys())\n",
        "plt.plot(history.history['categorical_acc'])\n",
        "plt.plot(history.history['val_categorical_acc'])\n",
        "plt.title('model accuracy')\n",
        "plt.ylabel('accuracy')\n",
        "plt.xlabel('epoch')\n",
        "plt.legend(['train', 'valid'], loc='upper left')\n",
        "plt.show()\n",
        "\n",
        "\n",
        "\n",
        "plt.plot(history.history['pre'])\n",
        "plt.plot(history.history['val_pre'])\n",
        "plt.title('model precision')\n",
        "plt.ylabel('precision')\n",
        "plt.xlabel('epoch')\n",
        "plt.legend(['train', 'valid'], loc='upper left')\n",
        "plt.show()\n",
        "\n",
        "\n",
        "\n",
        "plt.plot(history.history['recall'])\n",
        "plt.plot(history.history['val_recall'])\n",
        "plt.title('model recall')\n",
        "plt.ylabel('recall')\n",
        "plt.xlabel('epoch')\n",
        "plt.legend(['train', 'valid'], loc='upper left')\n",
        "plt.show()\n",
        "\n",
        "\n",
        "plt.plot(history.history['f1'])\n",
        "plt.plot(history.history['val_f1'])\n",
        "plt.title('model f1 score')\n",
        "plt.ylabel('f1 score')\n",
        "plt.xlabel('epoch')\n",
        "plt.legend(['train', 'valid'], loc='upper left')\n",
        "plt.show()"
      ],
      "metadata": {
        "id": "N9WQ7fgOrPwc",
        "colab": {
          "base_uri": "https://localhost:8080/",
          "height": 1000
        },
        "outputId": "dae7e6c3-5c8a-4a16-b508-c32c6ad36a32"
      },
      "execution_count": null,
      "outputs": [
        {
          "output_type": "stream",
          "name": "stdout",
          "text": [
            "dict_keys(['loss', 'categorical_acc', 'pre', 'recall', 'f1', 'val_loss', 'val_categorical_acc', 'val_pre', 'val_recall', 'val_f1'])\n"
          ]
        },
        {
          "output_type": "display_data",
          "data": {
            "text/plain": [
              "<Figure size 640x480 with 1 Axes>"
            ],
            "image/png": "[encoded data removed]"
          },
          "metadata": {}
        },
        {
          "output_type": "display_data",
          "data": {
            "text/plain": [
              "<Figure size 640x480 with 1 Axes>"
            ],
            "image/png": "[encoded data removed]"
          },
          "metadata": {}
        },
        {
          "output_type": "display_data",
          "data": {
            "text/plain": [
              "<Figure size 640x480 with 1 Axes>"
            ],
            "image/png": "[encoded data removed]"
          },
          "metadata": {}
        },
        {
          "output_type": "display_data",
          "data": {
            "text/plain": [
              "<Figure size 640x480 with 1 Axes>"
            ],
            "image/png": "[encoded data removed]"
          },
          "metadata": {}
        }
      ]
    },
    {
      "cell_type": "code",
      "source": [
        "print(cnn_model.evaluate(val_ds))"
      ],
      "metadata": {
        "id": "4SSJgel4eqK3",
        "colab": {
          "base_uri": "https://localhost:8080/"
        },
        "outputId": "5528f19d-d0cd-4459-f27c-6d5312607298"
      },
      "execution_count": null,
      "outputs": [
        {
          "output_type": "stream",
          "name": "stdout",
          "text": [
            "52/52 [==============================] - 0s 6ms/step - loss: 0.4660 - categorical_acc: 0.9027 - pre: 0.9184 - recall: 0.8902 - f1: 0.9011\n",
            "[0.46597418189048767, 0.9027279019355774, 0.9184043407440186, 0.8901581764221191, 0.9010674953460693]\n"
          ]
        }
      ]
    },
    {
      "cell_type": "code",
      "source": [
        "print(cnn_model.evaluate(test_ds))"
      ],
      "metadata": {
        "id": "ZipIZLHbfBZS",
        "colab": {
          "base_uri": "https://localhost:8080/"
        },
        "outputId": "07bb2b0f-c842-4511-cf4a-22df6615008f"
      },
      "execution_count": null,
      "outputs": [
        {
          "output_type": "stream",
          "name": "stdout",
          "text": [
            "34/34 [==============================] - 2s 64ms/step - loss: 0.5899 - categorical_acc: 0.8710 - pre: 0.9008 - recall: 0.8569 - f1: 0.8587\n",
            "[0.5898768901824951, 0.8710278272628784, 0.9007708430290222, 0.8569433093070984, 0.8587125539779663]\n"
          ]
        }
      ]
    },
    {
      "cell_type": "code",
      "source": [
        "y_pred = []\n",
        "y_true = []\n",
        "\n",
        "for image_batch, label_batch in val_ds:\n",
        "   y_true.append(label_batch)\n",
        "   preds = cnn_model.predict(image_batch, verbose=0)\n",
        "   y_pred.append(np.argmax(preds, axis = - 1))\n",
        "\n",
        "correct_labels = tf.concat([item for item in y_true], axis = 0)\n",
        "predicted_labels = tf.concat([item for item in y_pred], axis = 0)"
      ],
      "metadata": {
        "id": "sXxQag9RNsQ_"
      },
      "execution_count": null,
      "outputs": []
    },
    {
      "cell_type": "code",
      "source": [
        "from sklearn.metrics import confusion_matrix, f1_score\n",
        "import pandas as pd\n",
        "conf_matrix = confusion_matrix(tf.math.argmax(correct_labels, axis=1), predicted_labels.numpy())\n",
        "confusion_df = pd.DataFrame(conf_matrix, index=LABELS, columns=LABELS)\n",
        "display(confusion_df)\n",
        "f1_score(tf.math.argmax(correct_labels, axis=1), predicted_labels.numpy(), average=None)"
      ],
      "metadata": {
        "colab": {
          "base_uri": "https://localhost:8080/",
          "height": 304
        },
        "id": "WB6aNglCN32N",
        "outputId": "b5c9dfdc-52c8-43db-cf06-efda686f07a7"
      },
      "execution_count": null,
      "outputs": [
        {
          "output_type": "display_data",
          "data": {
            "text/plain": [
              "              ForwardFall  BackwardFall  LeftFall  RightFall  GetDown  \\\n",
              "ForwardFall          3771           243         0          1        0   \n",
              "BackwardFall         1063          2714       143          0        0   \n",
              "LeftFall                6             0      3101        114        0   \n",
              "RightFall               0             0       149       3405        0   \n",
              "GetDown                 0             0         5          0     3573   \n",
              "SitDown                 0             0         0          0        0   \n",
              "Walk                    0             0       123          0      298   \n",
              "\n",
              "              SitDown  Walk  \n",
              "ForwardFall         0     0  \n",
              "BackwardFall        0     0  \n",
              "LeftFall          156   157  \n",
              "RightFall           1    51  \n",
              "GetDown            35     1  \n",
              "SitDown          3585     0  \n",
              "Walk                0  3479  "
            ],
            "text/html": [
              "\n",
              "  <div id=\"df-ae06e7f8-745d-4b31-8ccc-26b794fad958\" class=\"colab-df-container\">\n",
              "    <div>\n",
              "<style scoped>\n",
              "    .dataframe tbody tr th:only-of-type {\n",
              "        vertical-align: middle;\n",
              "    }\n",
              "\n",
              "    .dataframe tbody tr th {\n",
              "        vertical-align: top;\n",
              "    }\n",
              "\n",
              "    .dataframe thead th {\n",
              "        text-align: right;\n",
              "    }\n",
              "</style>\n",
              "<table border=\"1\" class=\"dataframe\">\n",
              "  <thead>\n",
              "    <tr style=\"text-align: right;\">\n",
              "      <th></th>\n",
              "      <th>ForwardFall</th>\n",
              "      <th>BackwardFall</th>\n",
              "      <th>LeftFall</th>\n",
              "      <th>RightFall</th>\n",
              "      <th>GetDown</th>\n",
              "      <th>SitDown</th>\n",
              "      <th>Walk</th>\n",
              "    </tr>\n",
              "  </thead>\n",
              "  <tbody>\n",
              "    <tr>\n",
              "      <th>ForwardFall</th>\n",
              "      <td>3771</td>\n",
              "      <td>243</td>\n",
              "      <td>0</td>\n",
              "      <td>1</td>\n",
              "      <td>0</td>\n",
              "      <td>0</td>\n",
              "      <td>0</td>\n",
              "    </tr>\n",
              "    <tr>\n",
              "      <th>BackwardFall</th>\n",
              "      <td>1063</td>\n",
              "      <td>2714</td>\n",
              "      <td>143</td>\n",
              "      <td>0</td>\n",
              "      <td>0</td>\n",
              "      <td>0</td>\n",
              "      <td>0</td>\n",
              "    </tr>\n",
              "    <tr>\n",
              "      <th>LeftFall</th>\n",
              "      <td>6</td>\n",
              "      <td>0</td>\n",
              "      <td>3101</td>\n",
              "      <td>114</td>\n",
              "      <td>0</td>\n",
              "      <td>156</td>\n",
              "      <td>157</td>\n",
              "    </tr>\n",
              "    <tr>\n",
              "      <th>RightFall</th>\n",
              "      <td>0</td>\n",
              "      <td>0</td>\n",
              "      <td>149</td>\n",
              "      <td>3405</td>\n",
              "      <td>0</td>\n",
              "      <td>1</td>\n",
              "      <td>51</td>\n",
              "    </tr>\n",
              "    <tr>\n",
              "      <th>GetDown</th>\n",
              "      <td>0</td>\n",
              "      <td>0</td>\n",
              "      <td>5</td>\n",
              "      <td>0</td>\n",
              "      <td>3573</td>\n",
              "      <td>35</td>\n",
              "      <td>1</td>\n",
              "    </tr>\n",
              "    <tr>\n",
              "      <th>SitDown</th>\n",
              "      <td>0</td>\n",
              "      <td>0</td>\n",
              "      <td>0</td>\n",
              "      <td>0</td>\n",
              "      <td>0</td>\n",
              "      <td>3585</td>\n",
              "      <td>0</td>\n",
              "    </tr>\n",
              "    <tr>\n",
              "      <th>Walk</th>\n",
              "      <td>0</td>\n",
              "      <td>0</td>\n",
              "      <td>123</td>\n",
              "      <td>0</td>\n",
              "      <td>298</td>\n",
              "      <td>0</td>\n",
              "      <td>3479</td>\n",
              "    </tr>\n",
              "  </tbody>\n",
              "</table>\n",
              "</div>\n",
              "    <div class=\"colab-df-buttons\">\n",
              "\n",
              "  <div class=\"colab-df-container\">\n",
              "    <button class=\"colab-df-convert\" onclick=\"convertToInteractive('df-ae06e7f8-745d-4b31-8ccc-26b794fad958')\"\n",
              "            title=\"Convert this dataframe to an interactive table.\"\n",
              "            style=\"display:none;\">\n",
              "\n",
              "  <svg xmlns=\"http://www.w3.org/2000/svg\" height=\"24px\" viewBox=\"0 -960 960 960\">\n",
              "    <path d=\"M120-120v-720h720v720H120Zm60-500h600v-160H180v160Zm220 220h160v-160H400v160Zm0 220h160v-160H400v160ZM180-400h160v-160H180v160Zm440 0h160v-160H620v160ZM180-180h160v-160H180v160Zm440 0h160v-160H620v160Z\"/>\n",
              "  </svg>\n",
              "    </button>\n",
              "\n",
              "  <style>\n",
              "    .colab-df-container {\n",
              "      display:flex;\n",
              "      gap: 12px;\n",
              "    }\n",
              "\n",
              "    .colab-df-convert {\n",
              "      background-color: #E8F0FE;\n",
              "      border: none;\n",
              "      border-radius: 50%;\n",
              "      cursor: pointer;\n",
              "      display: none;\n",
              "      fill: #1967D2;\n",
              "      height: 32px;\n",
              "      padding: 0 0 0 0;\n",
              "      width: 32px;\n",
              "    }\n",
              "\n",
              "    .colab-df-convert:hover {\n",
              "      background-color: #E2EBFA;\n",
              "      box-shadow: 0px 1px 2px rgba(60, 64, 67, 0.3), 0px 1px 3px 1px rgba(60, 64, 67, 0.15);\n",
              "      fill: #174EA6;\n",
              "    }\n",
              "\n",
              "    .colab-df-buttons div {\n",
              "      margin-bottom: 4px;\n",
              "    }\n",
              "\n",
              "    [theme=dark] .colab-df-convert {\n",
              "      background-color: #3B4455;\n",
              "      fill: #D2E3FC;\n",
              "    }\n",
              "\n",
              "    [theme=dark] .colab-df-convert:hover {\n",
              "      background-color: #434B5C;\n",
              "      box-shadow: 0px 1px 3px 1px rgba(0, 0, 0, 0.15);\n",
              "      filter: drop-shadow(0px 1px 2px rgba(0, 0, 0, 0.3));\n",
              "      fill: #FFFFFF;\n",
              "    }\n",
              "  </style>\n",
              "\n",
              "    <script>\n",
              "      const buttonEl =\n",
              "        document.querySelector('#df-ae06e7f8-745d-4b31-8ccc-26b794fad958 button.colab-df-convert');\n",
              "      buttonEl.style.display =\n",
              "        google.colab.kernel.accessAllowed ? 'block' : 'none';\n",
              "\n",
              "      async function convertToInteractive(key) {\n",
              "        const element = document.querySelector('#df-ae06e7f8-745d-4b31-8ccc-26b794fad958');\n",
              "        const dataTable =\n",
              "          await google.colab.kernel.invokeFunction('convertToInteractive',\n",
              "                                                    [key], {});\n",
              "        if (!dataTable) return;\n",
              "\n",
              "        const docLinkHtml = 'Like what you see? Visit the ' +\n",
              "          '<a target=\"_blank\" href=https://colab.research.google.com/notebooks/data_table.ipynb>data table notebook</a>'\n",
              "          + ' to learn more about interactive tables.';\n",
              "        element.innerHTML = '';\n",
              "        dataTable['output_type'] = 'display_data';\n",
              "        await google.colab.output.renderOutput(dataTable, element);\n",
              "        const docLink = document.createElement('div');\n",
              "        docLink.innerHTML = docLinkHtml;\n",
              "        element.appendChild(docLink);\n",
              "      }\n",
              "    </script>\n",
              "  </div>\n",
              "\n",
              "\n",
              "<div id=\"df-c741d605-6ef5-4032-b2c1-ee64733dd149\">\n",
              "  <button class=\"colab-df-quickchart\" onclick=\"quickchart('df-c741d605-6ef5-4032-b2c1-ee64733dd149')\"\n",
              "            title=\"Suggest charts\"\n",
              "            style=\"display:none;\">\n",
              "\n",
              "<svg xmlns=\"http://www.w3.org/2000/svg\" height=\"24px\"viewBox=\"0 0 24 24\"\n",
              "     width=\"24px\">\n",
              "    <g>\n",
              "        <path d=\"M19 3H5c-1.1 0-2 .9-2 2v14c0 1.1.9 2 2 2h14c1.1 0 2-.9 2-2V5c0-1.1-.9-2-2-2zM9 17H7v-7h2v7zm4 0h-2V7h2v10zm4 0h-2v-4h2v4z\"/>\n",
              "    </g>\n",
              "</svg>\n",
              "  </button>\n",
              "\n",
              "<style>\n",
              "  .colab-df-quickchart {\n",
              "      --bg-color: #E8F0FE;\n",
              "      --fill-color: #1967D2;\n",
              "      --hover-bg-color: #E2EBFA;\n",
              "      --hover-fill-color: #174EA6;\n",
              "      --disabled-fill-color: #AAA;\n",
              "      --disabled-bg-color: #DDD;\n",
              "  }\n",
              "\n",
              "  [theme=dark] .colab-df-quickchart {\n",
              "      --bg-color: #3B4455;\n",
              "      --fill-color: #D2E3FC;\n",
              "      --hover-bg-color: #434B5C;\n",
              "      --hover-fill-color: #FFFFFF;\n",
              "      --disabled-bg-color: #3B4455;\n",
              "      --disabled-fill-color: #666;\n",
              "  }\n",
              "\n",
              "  .colab-df-quickchart {\n",
              "    background-color: var(--bg-color);\n",
              "    border: none;\n",
              "    border-radius: 50%;\n",
              "    cursor: pointer;\n",
              "    display: none;\n",
              "    fill: var(--fill-color);\n",
              "    height: 32px;\n",
              "    padding: 0;\n",
              "    width: 32px;\n",
              "  }\n",
              "\n",
              "  .colab-df-quickchart:hover {\n",
              "    background-color: var(--hover-bg-color);\n",
              "    box-shadow: 0 1px 2px rgba(60, 64, 67, 0.3), 0 1px 3px 1px rgba(60, 64, 67, 0.15);\n",
              "    fill: var(--button-hover-fill-color);\n",
              "  }\n",
              "\n",
              "  .colab-df-quickchart-complete:disabled,\n",
              "  .colab-df-quickchart-complete:disabled:hover {\n",
              "    background-color: var(--disabled-bg-color);\n",
              "    fill: var(--disabled-fill-color);\n",
              "    box-shadow: none;\n",
              "  }\n",
              "\n",
              "  .colab-df-spinner {\n",
              "    border: 2px solid var(--fill-color);\n",
              "    border-color: transparent;\n",
              "    border-bottom-color: var(--fill-color);\n",
              "    animation:\n",
              "      spin 1s steps(1) infinite;\n",
              "  }\n",
              "\n",
              "  @keyframes spin {\n",
              "    0% {\n",
              "      border-color: transparent;\n",
              "      border-bottom-color: var(--fill-color);\n",
              "      border-left-color: var(--fill-color);\n",
              "    }\n",
              "    20% {\n",
              "      border-color: transparent;\n",
              "      border-left-color: var(--fill-color);\n",
              "      border-top-color: var(--fill-color);\n",
              "    }\n",
              "    30% {\n",
              "      border-color: transparent;\n",
              "      border-left-color: var(--fill-color);\n",
              "      border-top-color: var(--fill-color);\n",
              "      border-right-color: var(--fill-color);\n",
              "    }\n",
              "    40% {\n",
              "      border-color: transparent;\n",
              "      border-right-color: var(--fill-color);\n",
              "      border-top-color: var(--fill-color);\n",
              "    }\n",
              "    60% {\n",
              "      border-color: transparent;\n",
              "      border-right-color: var(--fill-color);\n",
              "    }\n",
              "    80% {\n",
              "      border-color: transparent;\n",
              "      border-right-color: var(--fill-color);\n",
              "      border-bottom-color: var(--fill-color);\n",
              "    }\n",
              "    90% {\n",
              "      border-color: transparent;\n",
              "      border-bottom-color: var(--fill-color);\n",
              "    }\n",
              "  }\n",
              "</style>\n",
              "\n",
              "  <script>\n",
              "    async function quickchart(key) {\n",
              "      const quickchartButtonEl =\n",
              "        document.querySelector('#' + key + ' button');\n",
              "      quickchartButtonEl.disabled = true;  // To prevent multiple clicks.\n",
              "      quickchartButtonEl.classList.add('colab-df-spinner');\n",
              "      try {\n",
              "        const charts = await google.colab.kernel.invokeFunction(\n",
              "            'suggestCharts', [key], {});\n",
              "      } catch (error) {\n",
              "        console.error('Error during call to suggestCharts:', error);\n",
              "      }\n",
              "      quickchartButtonEl.classList.remove('colab-df-spinner');\n",
              "      quickchartButtonEl.classList.add('colab-df-quickchart-complete');\n",
              "    }\n",
              "    (() => {\n",
              "      let quickchartButtonEl =\n",
              "        document.querySelector('#df-c741d605-6ef5-4032-b2c1-ee64733dd149 button');\n",
              "      quickchartButtonEl.style.display =\n",
              "        google.colab.kernel.accessAllowed ? 'block' : 'none';\n",
              "    })();\n",
              "  </script>\n",
              "</div>\n",
              "\n",
              "  <div id=\"id_59f89af0-59c5-4158-ba31-253fae2ded58\">\n",
              "    <style>\n",
              "      .colab-df-generate {\n",
              "        background-color: #E8F0FE;\n",
              "        border: none;\n",
              "        border-radius: 50%;\n",
              "        cursor: pointer;\n",
              "        display: none;\n",
              "        fill: #1967D2;\n",
              "        height: 32px;\n",
              "        padding: 0 0 0 0;\n",
              "        width: 32px;\n",
              "      }\n",
              "\n",
              "      .colab-df-generate:hover {\n",
              "        background-color: #E2EBFA;\n",
              "        box-shadow: 0px 1px 2px rgba(60, 64, 67, 0.3), 0px 1px 3px 1px rgba(60, 64, 67, 0.15);\n",
              "        fill: #174EA6;\n",
              "      }\n",
              "\n",
              "      [theme=dark] .colab-df-generate {\n",
              "        background-color: #3B4455;\n",
              "        fill: #D2E3FC;\n",
              "      }\n",
              "\n",
              "      [theme=dark] .colab-df-generate:hover {\n",
              "        background-color: #434B5C;\n",
              "        box-shadow: 0px 1px 3px 1px rgba(0, 0, 0, 0.15);\n",
              "        filter: drop-shadow(0px 1px 2px rgba(0, 0, 0, 0.3));\n",
              "        fill: #FFFFFF;\n",
              "      }\n",
              "    </style>\n",
              "    <button class=\"colab-df-generate\" onclick=\"generateWithVariable('confusion_df')\"\n",
              "            title=\"Generate code using this dataframe.\"\n",
              "            style=\"display:none;\">\n",
              "\n",
              "  <svg xmlns=\"http://www.w3.org/2000/svg\" height=\"24px\"viewBox=\"0 0 24 24\"\n",
              "       width=\"24px\">\n",
              "    <path d=\"M7,19H8.4L18.45,9,17,7.55,7,17.6ZM5,21V16.75L18.45,3.32a2,2,0,0,1,2.83,0l1.4,1.43a1.91,1.91,0,0,1,.58,1.4,1.91,1.91,0,0,1-.58,1.4L9.25,21ZM18.45,9,17,7.55Zm-12,3A5.31,5.31,0,0,0,4.9,8.1,5.31,5.31,0,0,0,1,6.5,5.31,5.31,0,0,0,4.9,4.9,5.31,5.31,0,0,0,6.5,1,5.31,5.31,0,0,0,8.1,4.9,5.31,5.31,0,0,0,12,6.5,5.46,5.46,0,0,0,6.5,12Z\"/>\n",
              "  </svg>\n",
              "    </button>\n",
              "    <script>\n",
              "      (() => {\n",
              "      const buttonEl =\n",
              "        document.querySelector('#id_59f89af0-59c5-4158-ba31-253fae2ded58 button.colab-df-generate');\n",
              "      buttonEl.style.display =\n",
              "        google.colab.kernel.accessAllowed ? 'block' : 'none';\n",
              "\n",
              "      buttonEl.onclick = () => {\n",
              "        google.colab.notebook.generateWithVariable('confusion_df');\n",
              "      }\n",
              "      })();\n",
              "    </script>\n",
              "  </div>\n",
              "\n",
              "    </div>\n",
              "  </div>\n"
            ],
            "application/vnd.google.colaboratory.intrinsic+json": {
              "type": "dataframe",
              "variable_name": "confusion_df",
              "summary": "{\n  \"name\": \"confusion_df\",\n  \"rows\": 7,\n  \"fields\": [\n    {\n      \"column\": \"ForwardFall\",\n      \"properties\": {\n        \"dtype\": \"number\",\n        \"std\": 1414,\n        \"min\": 0,\n        \"max\": 3771,\n        \"num_unique_values\": 4,\n        \"samples\": [\n          1063,\n          0,\n          3771\n        ],\n        \"semantic_type\": \"\",\n        \"description\": \"\"\n      }\n    },\n    {\n      \"column\": \"BackwardFall\",\n      \"properties\": {\n        \"dtype\": \"number\",\n        \"std\": 1014,\n        \"min\": 0,\n        \"max\": 2714,\n        \"num_unique_values\": 3,\n        \"samples\": [\n          243,\n          2714,\n          0\n        ],\n        \"semantic_type\": \"\",\n        \"description\": \"\"\n      }\n    },\n    {\n      \"column\": \"LeftFall\",\n      \"properties\": {\n        \"dtype\": \"number\",\n        \"std\": 1147,\n        \"min\": 0,\n        \"max\": 3101,\n        \"num_unique_values\": 6,\n        \"samples\": [\n          0,\n          143,\n          123\n        ],\n        \"semantic_type\": \"\",\n        \"description\": \"\"\n      }\n    },\n    {\n      \"column\": \"RightFall\",\n      \"properties\": {\n        \"dtype\": \"number\",\n        \"std\": 1280,\n        \"min\": 0,\n        \"max\": 3405,\n        \"num_unique_values\": 4,\n        \"samples\": [\n          0,\n          3405,\n          1\n        ],\n        \"semantic_type\": \"\",\n        \"description\": \"\"\n      }\n    },\n    {\n      \"column\": \"GetDown\",\n      \"properties\": {\n        \"dtype\": \"number\",\n        \"std\": 1336,\n        \"min\": 0,\n        \"max\": 3573,\n        \"num_unique_values\": 3,\n        \"samples\": [\n          0,\n          3573,\n          298\n        ],\n        \"semantic_type\": \"\",\n        \"description\": \"\"\n      }\n    },\n    {\n      \"column\": \"SitDown\",\n      \"properties\": {\n        \"dtype\": \"number\",\n        \"std\": 1344,\n        \"min\": 0,\n        \"max\": 3585,\n        \"num_unique_values\": 5,\n        \"samples\": [\n          156,\n          3585,\n          1\n        ],\n        \"semantic_type\": \"\",\n        \"description\": \"\"\n      }\n    },\n    {\n      \"column\": \"Walk\",\n      \"properties\": {\n        \"dtype\": \"number\",\n        \"std\": 1303,\n        \"min\": 0,\n        \"max\": 3479,\n        \"num_unique_values\": 5,\n        \"samples\": [\n          157,\n          3479,\n          51\n        ],\n        \"semantic_type\": \"\",\n        \"description\": \"\"\n      }\n    }\n  ]\n}"
            }
          },
          "metadata": {}
        },
        {
          "output_type": "execute_result",
          "data": {
            "text/plain": [
              "array([0.85172219, 0.78929766, 0.87909284, 0.95565535, 0.95470942,\n",
              "       0.97392013, 0.91697417])"
            ]
          },
          "metadata": {},
          "execution_count": 21
        }
      ]
    },
    {
      "cell_type": "markdown",
      "source": [
        "# 2 labels"
      ],
      "metadata": {
        "id": "BqUFEGf-TfRE"
      }
    },
    {
      "cell_type": "code",
      "source": [
        "train_ds = load_dataset(\"train\")\n",
        "val_ds = load_dataset(\"val\")\n",
        "test_ds = load_dataset(\"test\")"
      ],
      "metadata": {
        "id": "np2C_VEOUJlW"
      },
      "execution_count": null,
      "outputs": []
    },
    {
      "cell_type": "code",
      "source": [
        "def process_image(image):\n",
        "  image = image/255.0\n",
        "  return image\n",
        "\n",
        "def one_hot_encode_label(label):\n",
        "  label = tf.cast(label, dtype=tf.int32)\n",
        "  label = int(label<=3)\n",
        "  return tf.one_hot(label, depth=2)\n",
        "\n",
        "train_ds = train_ds.map(lambda x, y: (process_image(x), one_hot_encode_label(y)))\n",
        "val_ds = val_ds.map(lambda x, y: (process_image(x), one_hot_encode_label(y)))\n",
        "test_ds = test_ds.map(lambda x, y: (process_image(x), one_hot_encode_label(y)))"
      ],
      "metadata": {
        "id": "97pgRxoZTfRF"
      },
      "execution_count": null,
      "outputs": []
    },
    {
      "cell_type": "code",
      "execution_count": null,
      "metadata": {
        "id": "k-oOE5QFTfRG"
      },
      "outputs": [],
      "source": [
        "AUTOTUNE = tf.data.AUTOTUNE\n",
        "train_ds = train_ds.cache().batch(batch_size=2**9).prefetch(buffer_size=AUTOTUNE)\n",
        "val_ds = val_ds.cache().batch(batch_size=2**9).prefetch(buffer_size=AUTOTUNE)\n",
        "test_ds = test_ds.cache().batch(batch_size=2**9).prefetch(buffer_size=AUTOTUNE)"
      ]
    },
    {
      "cell_type": "code",
      "execution_count": null,
      "metadata": {
        "colab": {
          "base_uri": "https://localhost:8080/"
        },
        "outputId": "734d4c5e-72ba-4c36-822f-4e8d911d5ffa",
        "id": "Ubv3eZQHTfRH"
      },
      "outputs": [
        {
          "output_type": "stream",
          "name": "stdout",
          "text": [
            "Model: \"sequential_1\"\n",
            "_________________________________________________________________\n",
            " Layer (type)                Output Shape              Param #   \n",
            "=================================================================\n",
            " conv2d_3 (Conv2D)           (None, 30, 30, 32)        320       \n",
            "                                                                 \n",
            " max_pooling2d_3 (MaxPoolin  (None, 15, 15, 32)        0         \n",
            " g2D)                                                            \n",
            "                                                                 \n",
            " batch_normalization_5 (Bat  (None, 15, 15, 32)        128       \n",
            " chNormalization)                                                \n",
            "                                                                 \n",
            " conv2d_4 (Conv2D)           (None, 13, 13, 64)        18496     \n",
            "                                                                 \n",
            " max_pooling2d_4 (MaxPoolin  (None, 6, 6, 64)          0         \n",
            " g2D)                                                            \n",
            "                                                                 \n",
            " batch_normalization_6 (Bat  (None, 6, 6, 64)          256       \n",
            " chNormalization)                                                \n",
            "                                                                 \n",
            " conv2d_5 (Conv2D)           (None, 4, 4, 128)         73856     \n",
            "                                                                 \n",
            " max_pooling2d_5 (MaxPoolin  (None, 2, 2, 128)         0         \n",
            " g2D)                                                            \n",
            "                                                                 \n",
            " batch_normalization_7 (Bat  (None, 2, 2, 128)         512       \n",
            " chNormalization)                                                \n",
            "                                                                 \n",
            " flatten_1 (Flatten)         (None, 512)               0         \n",
            "                                                                 \n",
            " dense_3 (Dense)             (None, 100)               51300     \n",
            "                                                                 \n",
            " batch_normalization_8 (Bat  (None, 100)               400       \n",
            " chNormalization)                                                \n",
            "                                                                 \n",
            " dropout_2 (Dropout)         (None, 100)               0         \n",
            "                                                                 \n",
            " dense_4 (Dense)             (None, 50)                5050      \n",
            "                                                                 \n",
            " batch_normalization_9 (Bat  (None, 50)                200       \n",
            " chNormalization)                                                \n",
            "                                                                 \n",
            " dropout_3 (Dropout)         (None, 50)                0         \n",
            "                                                                 \n",
            " dense_5 (Dense)             (None, 2)                 102       \n",
            "                                                                 \n",
            "=================================================================\n",
            "Total params: 150620 (588.36 KB)\n",
            "Trainable params: 149872 (585.44 KB)\n",
            "Non-trainable params: 748 (2.92 KB)\n",
            "_________________________________________________________________\n"
          ]
        }
      ],
      "source": [
        "cnn_model = build_model(num_classes=2)\n",
        "cnn_model.summary()"
      ]
    },
    {
      "cell_type": "code",
      "execution_count": null,
      "metadata": {
        "id": "mc636k2CTfRI"
      },
      "outputs": [],
      "source": [
        "today = str(datetime.date.today())\n",
        "f1_modelcheckpoint_callback = ModelCheckpoint(\n",
        "    today + 'cnn_model',\n",
        "    monitor='val_f1',\n",
        "    verbose=1,\n",
        "    save_best_only=True,\n",
        "    mode='max'\n",
        ")\n",
        "\n",
        "f1_early_stopping_callback = EarlyStopping(\n",
        "    monitor='val_f1',\n",
        "    patience=10,\n",
        "    mode='max',\n",
        "    restore_best_weights=True,\n",
        "    verbose=1\n",
        ")"
      ]
    },
    {
      "cell_type": "code",
      "source": [
        "history = cnn_model.fit(\n",
        "    train_ds,\n",
        "    epochs=30,\n",
        "    validation_data=val_ds,\n",
        "    callbacks=[\n",
        "        f1_modelcheckpoint_callback,\n",
        "        f1_early_stopping_callback,\n",
        "    ]\n",
        ")"
      ],
      "metadata": {
        "colab": {
          "base_uri": "https://localhost:8080/"
        },
        "outputId": "2bc5ec73-ed45-4b98-fdac-086172489091",
        "id": "p3ciC7K8TfRJ"
      },
      "execution_count": null,
      "outputs": [
        {
          "output_type": "stream",
          "name": "stdout",
          "text": [
            "Epoch 1/30\n",
            "128/128 [==============================] - ETA: 0s - loss: 0.9998 - categorical_acc: 0.6888 - pre: 0.6888 - recall: 0.6888 - f1: 0.6897\n",
            "Epoch 1: val_f1 improved from -inf to 0.42098, saving model to 2024-04-14cnn_model\n",
            "128/128 [==============================] - 15s 90ms/step - loss: 0.9998 - categorical_acc: 0.6888 - pre: 0.6888 - recall: 0.6888 - f1: 0.6897 - val_loss: 0.9281 - val_categorical_acc: 0.5760 - val_pre: 0.5760 - val_recall: 0.5760 - val_f1: 0.4210\n",
            "Epoch 2/30\n",
            "126/128 [============================>.] - ETA: 0s - loss: 0.7490 - categorical_acc: 0.7666 - pre: 0.7666 - recall: 0.7666 - f1: 0.7664\n",
            "Epoch 2: val_f1 did not improve from 0.42098\n",
            "128/128 [==============================] - 2s 18ms/step - loss: 0.7440 - categorical_acc: 0.7694 - pre: 0.7694 - recall: 0.7694 - f1: 0.7692 - val_loss: 0.8481 - val_categorical_acc: 0.5760 - val_pre: 0.5760 - val_recall: 0.5760 - val_f1: 0.4210\n",
            "Epoch 3/30\n",
            "128/128 [==============================] - ETA: 0s - loss: 0.6563 - categorical_acc: 0.7948 - pre: 0.7948 - recall: 0.7948 - f1: 0.7945\n",
            "Epoch 3: val_f1 improved from 0.42098 to 0.44853, saving model to 2024-04-14cnn_model\n",
            "128/128 [==============================] - 5s 37ms/step - loss: 0.6563 - categorical_acc: 0.7948 - pre: 0.7948 - recall: 0.7948 - f1: 0.7945 - val_loss: 0.7025 - val_categorical_acc: 0.5884 - val_pre: 0.5884 - val_recall: 0.5884 - val_f1: 0.4485\n",
            "Epoch 4/30\n",
            "128/128 [==============================] - ETA: 0s - loss: 0.6010 - categorical_acc: 0.8083 - pre: 0.8083 - recall: 0.8083 - f1: 0.8079\n",
            "Epoch 4: val_f1 improved from 0.44853 to 0.86392, saving model to 2024-04-14cnn_model\n",
            "128/128 [==============================] - 5s 40ms/step - loss: 0.6010 - categorical_acc: 0.8083 - pre: 0.8083 - recall: 0.8083 - f1: 0.8079 - val_loss: 0.4785 - val_categorical_acc: 0.8690 - val_pre: 0.8690 - val_recall: 0.8690 - val_f1: 0.8639\n",
            "Epoch 5/30\n",
            "127/128 [============================>.] - ETA: 0s - loss: 0.5622 - categorical_acc: 0.8165 - pre: 0.8165 - recall: 0.8165 - f1: 0.8159\n",
            "Epoch 5: val_f1 improved from 0.86392 to 0.91268, saving model to 2024-04-14cnn_model\n",
            "128/128 [==============================] - 5s 35ms/step - loss: 0.5604 - categorical_acc: 0.8175 - pre: 0.8175 - recall: 0.8175 - f1: 0.8169 - val_loss: 0.3657 - val_categorical_acc: 0.9142 - val_pre: 0.9142 - val_recall: 0.9142 - val_f1: 0.9127\n",
            "Epoch 6/30\n",
            "127/128 [============================>.] - ETA: 0s - loss: 0.5447 - categorical_acc: 0.8172 - pre: 0.8172 - recall: 0.8172 - f1: 0.8165\n",
            "Epoch 6: val_f1 improved from 0.91268 to 0.96712, saving model to 2024-04-14cnn_model\n",
            "128/128 [==============================] - 6s 43ms/step - loss: 0.5429 - categorical_acc: 0.8182 - pre: 0.8182 - recall: 0.8182 - f1: 0.8176 - val_loss: 0.2941 - val_categorical_acc: 0.9673 - val_pre: 0.9673 - val_recall: 0.9673 - val_f1: 0.9671\n",
            "Epoch 7/30\n",
            "127/128 [============================>.] - ETA: 0s - loss: 0.5037 - categorical_acc: 0.8247 - pre: 0.8247 - recall: 0.8247 - f1: 0.8239\n",
            "Epoch 7: val_f1 improved from 0.96712 to 0.96867, saving model to 2024-04-14cnn_model\n",
            "128/128 [==============================] - 5s 36ms/step - loss: 0.5020 - categorical_acc: 0.8257 - pre: 0.8257 - recall: 0.8257 - f1: 0.8249 - val_loss: 0.2329 - val_categorical_acc: 0.9686 - val_pre: 0.9686 - val_recall: 0.9686 - val_f1: 0.9687\n",
            "Epoch 8/30\n",
            "128/128 [==============================] - ETA: 0s - loss: 0.4910 - categorical_acc: 0.8291 - pre: 0.8291 - recall: 0.8291 - f1: 0.8284\n",
            "Epoch 8: val_f1 improved from 0.96867 to 0.97953, saving model to 2024-04-14cnn_model\n",
            "128/128 [==============================] - 4s 35ms/step - loss: 0.4910 - categorical_acc: 0.8291 - pre: 0.8291 - recall: 0.8291 - f1: 0.8284 - val_loss: 0.2277 - val_categorical_acc: 0.9796 - val_pre: 0.9796 - val_recall: 0.9796 - val_f1: 0.9795\n",
            "Epoch 9/30\n",
            "126/128 [============================>.] - ETA: 0s - loss: 0.4727 - categorical_acc: 0.8260 - pre: 0.8260 - recall: 0.8260 - f1: 0.8251\n",
            "Epoch 9: val_f1 improved from 0.97953 to 0.98348, saving model to 2024-04-14cnn_model\n",
            "128/128 [==============================] - 6s 46ms/step - loss: 0.4684 - categorical_acc: 0.8284 - pre: 0.8284 - recall: 0.8284 - f1: 0.8275 - val_loss: 0.1937 - val_categorical_acc: 0.9835 - val_pre: 0.9835 - val_recall: 0.9835 - val_f1: 0.9835\n",
            "Epoch 10/30\n",
            "127/128 [============================>.] - ETA: 0s - loss: 0.4512 - categorical_acc: 0.8321 - pre: 0.8321 - recall: 0.8321 - f1: 0.8310\n",
            "Epoch 10: val_f1 did not improve from 0.98348\n",
            "128/128 [==============================] - 2s 17ms/step - loss: 0.4496 - categorical_acc: 0.8331 - pre: 0.8331 - recall: 0.8331 - f1: 0.8320 - val_loss: 0.2101 - val_categorical_acc: 0.9558 - val_pre: 0.9558 - val_recall: 0.9558 - val_f1: 0.9560\n",
            "Epoch 11/30\n",
            "125/128 [============================>.] - ETA: 0s - loss: 0.4447 - categorical_acc: 0.8276 - pre: 0.8276 - recall: 0.8276 - f1: 0.8265\n",
            "Epoch 11: val_f1 did not improve from 0.98348\n",
            "128/128 [==============================] - 2s 17ms/step - loss: 0.4377 - categorical_acc: 0.8313 - pre: 0.8313 - recall: 0.8313 - f1: 0.8303 - val_loss: 0.1607 - val_categorical_acc: 0.9747 - val_pre: 0.9747 - val_recall: 0.9747 - val_f1: 0.9748\n",
            "Epoch 12/30\n",
            "127/128 [============================>.] - ETA: 0s - loss: 0.4194 - categorical_acc: 0.8339 - pre: 0.8339 - recall: 0.8339 - f1: 0.8328\n",
            "Epoch 12: val_f1 did not improve from 0.98348\n",
            "128/128 [==============================] - 2s 17ms/step - loss: 0.4177 - categorical_acc: 0.8348 - pre: 0.8348 - recall: 0.8348 - f1: 0.8338 - val_loss: 0.1818 - val_categorical_acc: 0.9733 - val_pre: 0.9733 - val_recall: 0.9733 - val_f1: 0.9733\n",
            "Epoch 13/30\n",
            "126/128 [============================>.] - ETA: 0s - loss: 0.4089 - categorical_acc: 0.8404 - pre: 0.8404 - recall: 0.8404 - f1: 0.8392\n",
            "Epoch 13: val_f1 improved from 0.98348 to 0.98957, saving model to 2024-04-14cnn_model\n",
            "128/128 [==============================] - 5s 42ms/step - loss: 0.4048 - categorical_acc: 0.8425 - pre: 0.8425 - recall: 0.8425 - f1: 0.8414 - val_loss: 0.1499 - val_categorical_acc: 0.9896 - val_pre: 0.9896 - val_recall: 0.9896 - val_f1: 0.9896\n",
            "Epoch 14/30\n",
            "125/128 [============================>.] - ETA: 0s - loss: 0.4008 - categorical_acc: 0.8368 - pre: 0.8368 - recall: 0.8368 - f1: 0.8356\n",
            "Epoch 14: val_f1 did not improve from 0.98957\n",
            "128/128 [==============================] - 2s 17ms/step - loss: 0.3942 - categorical_acc: 0.8403 - pre: 0.8403 - recall: 0.8403 - f1: 0.8391 - val_loss: 0.1737 - val_categorical_acc: 0.9639 - val_pre: 0.9639 - val_recall: 0.9639 - val_f1: 0.9640\n",
            "Epoch 15/30\n",
            "128/128 [==============================] - ETA: 0s - loss: 0.3921 - categorical_acc: 0.8370 - pre: 0.8370 - recall: 0.8370 - f1: 0.8358\n",
            "Epoch 15: val_f1 did not improve from 0.98957\n",
            "128/128 [==============================] - 2s 17ms/step - loss: 0.3921 - categorical_acc: 0.8370 - pre: 0.8370 - recall: 0.8370 - f1: 0.8358 - val_loss: 0.1387 - val_categorical_acc: 0.9802 - val_pre: 0.9802 - val_recall: 0.9802 - val_f1: 0.9803\n",
            "Epoch 16/30\n",
            "125/128 [============================>.] - ETA: 0s - loss: 0.3877 - categorical_acc: 0.8353 - pre: 0.8353 - recall: 0.8353 - f1: 0.8340\n",
            "Epoch 16: val_f1 did not improve from 0.98957\n",
            "128/128 [==============================] - 2s 17ms/step - loss: 0.3811 - categorical_acc: 0.8388 - pre: 0.8388 - recall: 0.8388 - f1: 0.8376 - val_loss: 0.1267 - val_categorical_acc: 0.9867 - val_pre: 0.9867 - val_recall: 0.9867 - val_f1: 0.9867\n",
            "Epoch 17/30\n",
            "128/128 [==============================] - ETA: 0s - loss: 0.3710 - categorical_acc: 0.8400 - pre: 0.8400 - recall: 0.8400 - f1: 0.8388\n",
            "Epoch 17: val_f1 did not improve from 0.98957\n",
            "128/128 [==============================] - 2s 17ms/step - loss: 0.3710 - categorical_acc: 0.8400 - pre: 0.8400 - recall: 0.8400 - f1: 0.8388 - val_loss: 0.1422 - val_categorical_acc: 0.9743 - val_pre: 0.9743 - val_recall: 0.9743 - val_f1: 0.9743\n",
            "Epoch 18/30\n",
            "127/128 [============================>.] - ETA: 0s - loss: 0.3708 - categorical_acc: 0.8400 - pre: 0.8400 - recall: 0.8400 - f1: 0.8388\n",
            "Epoch 18: val_f1 did not improve from 0.98957\n",
            "128/128 [==============================] - 3s 23ms/step - loss: 0.3692 - categorical_acc: 0.8409 - pre: 0.8409 - recall: 0.8409 - f1: 0.8397 - val_loss: 0.1130 - val_categorical_acc: 0.9887 - val_pre: 0.9887 - val_recall: 0.9887 - val_f1: 0.9887\n",
            "Epoch 19/30\n",
            "128/128 [==============================] - ETA: 0s - loss: 0.3621 - categorical_acc: 0.8437 - pre: 0.8437 - recall: 0.8437 - f1: 0.8426\n",
            "Epoch 19: val_f1 did not improve from 0.98957\n",
            "128/128 [==============================] - 2s 18ms/step - loss: 0.3621 - categorical_acc: 0.8437 - pre: 0.8437 - recall: 0.8437 - f1: 0.8426 - val_loss: 0.1752 - val_categorical_acc: 0.9477 - val_pre: 0.9477 - val_recall: 0.9477 - val_f1: 0.9473\n",
            "Epoch 20/30\n",
            "128/128 [==============================] - ETA: 0s - loss: 0.3622 - categorical_acc: 0.8459 - pre: 0.8459 - recall: 0.8459 - f1: 0.8445\n",
            "Epoch 20: val_f1 did not improve from 0.98957\n",
            "128/128 [==============================] - 2s 17ms/step - loss: 0.3622 - categorical_acc: 0.8459 - pre: 0.8459 - recall: 0.8459 - f1: 0.8445 - val_loss: 0.1485 - val_categorical_acc: 0.9511 - val_pre: 0.9511 - val_recall: 0.9511 - val_f1: 0.9507\n",
            "Epoch 21/30\n",
            "127/128 [============================>.] - ETA: 0s - loss: 0.3507 - categorical_acc: 0.8466 - pre: 0.8466 - recall: 0.8466 - f1: 0.8454\n",
            "Epoch 21: val_f1 did not improve from 0.98957\n",
            "128/128 [==============================] - 2s 17ms/step - loss: 0.3491 - categorical_acc: 0.8475 - pre: 0.8475 - recall: 0.8475 - f1: 0.8463 - val_loss: 0.1230 - val_categorical_acc: 0.9819 - val_pre: 0.9819 - val_recall: 0.9819 - val_f1: 0.9819\n",
            "Epoch 22/30\n",
            "128/128 [==============================] - ETA: 0s - loss: 0.3570 - categorical_acc: 0.8387 - pre: 0.8387 - recall: 0.8387 - f1: 0.8375\n",
            "Epoch 22: val_f1 did not improve from 0.98957\n",
            "128/128 [==============================] - 2s 17ms/step - loss: 0.3570 - categorical_acc: 0.8387 - pre: 0.8387 - recall: 0.8387 - f1: 0.8375 - val_loss: 0.1036 - val_categorical_acc: 0.9869 - val_pre: 0.9869 - val_recall: 0.9869 - val_f1: 0.9869\n",
            "Epoch 23/30\n",
            "126/128 [============================>.] - ETA: 0s - loss: 0.3486 - categorical_acc: 0.8450 - pre: 0.8450 - recall: 0.8450 - f1: 0.8436\n",
            "Epoch 23: val_f1 did not improve from 0.98957\n",
            "Restoring model weights from the end of the best epoch: 13.\n",
            "128/128 [==============================] - 3s 21ms/step - loss: 0.3447 - categorical_acc: 0.8470 - pre: 0.8470 - recall: 0.8470 - f1: 0.8457 - val_loss: 0.0963 - val_categorical_acc: 0.9874 - val_pre: 0.9874 - val_recall: 0.9874 - val_f1: 0.9874\n",
            "Epoch 23: early stopping\n"
          ]
        }
      ]
    },
    {
      "cell_type": "code",
      "source": [
        "print(history.history.keys())\n",
        "plt.plot(history.history['categorical_acc'])\n",
        "plt.plot(history.history['val_categorical_acc'])\n",
        "plt.title('model accuracy')\n",
        "plt.ylabel('accuracy')\n",
        "plt.xlabel('epoch')\n",
        "plt.legend(['train', 'valid'], loc='upper left')\n",
        "plt.show()\n",
        "\n",
        "\n",
        "\n",
        "plt.plot(history.history['pre'])\n",
        "plt.plot(history.history['val_pre'])\n",
        "plt.title('model precision')\n",
        "plt.ylabel('precision')\n",
        "plt.xlabel('epoch')\n",
        "plt.legend(['train', 'valid'], loc='upper left')\n",
        "plt.show()\n",
        "\n",
        "\n",
        "\n",
        "plt.plot(history.history['recall'])\n",
        "plt.plot(history.history['val_recall'])\n",
        "plt.title('model recall')\n",
        "plt.ylabel('recall')\n",
        "plt.xlabel('epoch')\n",
        "plt.legend(['train', 'valid'], loc='upper left')\n",
        "plt.show()\n",
        "\n",
        "\n",
        "plt.plot(history.history['f1'])\n",
        "plt.plot(history.history['val_f1'])\n",
        "plt.title('model f1 score')\n",
        "plt.ylabel('f1 score')\n",
        "plt.xlabel('epoch')\n",
        "plt.legend(['train', 'valid'], loc='upper left')\n",
        "plt.show()"
      ],
      "metadata": {
        "colab": {
          "base_uri": "https://localhost:8080/",
          "height": 1000
        },
        "id": "aiRuB6UGTfRJ",
        "outputId": "3d4941bf-81e7-4867-96b8-1b7d4beb193c"
      },
      "execution_count": null,
      "outputs": [
        {
          "output_type": "stream",
          "name": "stdout",
          "text": [
            "dict_keys(['loss', 'categorical_acc', 'pre', 'recall', 'f1', 'val_loss', 'val_categorical_acc', 'val_pre', 'val_recall', 'val_f1'])\n"
          ]
        },
        {
          "output_type": "display_data",
          "data": {
            "text/plain": [
              "<Figure size 640x480 with 1 Axes>"
            ],
            "image/png": "[encoded data removed]"
          },
          "metadata": {}
        },
        {
          "output_type": "display_data",
          "data": {
            "text/plain": [
              "<Figure size 640x480 with 1 Axes>"
            ],
            "image/png": "[encoded data removed]"
          },
          "metadata": {}
        },
        {
          "output_type": "display_data",
          "data": {
            "text/plain": [
              "<Figure size 640x480 with 1 Axes>"
            ],
            "image/png": "[encoded data removed]"
          },
          "metadata": {}
        },
        {
          "output_type": "display_data",
          "data": {
            "text/plain": [
              "<Figure size 640x480 with 1 Axes>"
            ],
            "image/png": "[encoded data removed]"
          },
          "metadata": {}
        }
      ]
    },
    {
      "cell_type": "code",
      "source": [
        "print(cnn_model.evaluate(val_ds))"
      ],
      "metadata": {
        "colab": {
          "base_uri": "https://localhost:8080/"
        },
        "id": "2VobxKVGTfRJ",
        "outputId": "c6429bab-1df4-4b11-9c6b-f59055a7007b"
      },
      "execution_count": null,
      "outputs": [
        {
          "output_type": "stream",
          "name": "stdout",
          "text": [
            "52/52 [==============================] - 1s 9ms/step - loss: 0.1499 - categorical_acc: 0.9896 - pre: 0.9896 - recall: 0.9896 - f1: 0.9896\n",
            "[0.14992180466651917, 0.9895697832107544, 0.9895697832107544, 0.9895697832107544, 0.989567756652832]\n"
          ]
        }
      ]
    },
    {
      "cell_type": "code",
      "source": [
        "print(cnn_model.evaluate(test_ds))"
      ],
      "metadata": {
        "colab": {
          "base_uri": "https://localhost:8080/"
        },
        "id": "fsocxrUGTfRK",
        "outputId": "11aecdc0-3194-40e9-b023-6feca41e4e29"
      },
      "execution_count": null,
      "outputs": [
        {
          "output_type": "stream",
          "name": "stdout",
          "text": [
            "34/34 [==============================] - 1s 34ms/step - loss: 0.1381 - categorical_acc: 0.9895 - pre: 0.9895 - recall: 0.9895 - f1: 0.9895\n",
            "[0.13814093172550201, 0.9895239472389221, 0.9895239472389221, 0.9895239472389221, 0.9895108938217163]\n"
          ]
        }
      ]
    },
    {
      "cell_type": "code",
      "source": [
        "y_pred = []\n",
        "y_true = []\n",
        "\n",
        "for image_batch, label_batch in test_ds:\n",
        "   y_true.append(label_batch)\n",
        "   preds = cnn_model.predict(image_batch, verbose=0)\n",
        "   y_pred.append(np.argmax(preds, axis = - 1))\n",
        "\n",
        "correct_labels = tf.concat([item for item in y_true], axis = 0)\n",
        "predicted_labels = tf.concat([item for item in y_pred], axis = 0)"
      ],
      "metadata": {
        "id": "jzN8x8dtPi85"
      },
      "execution_count": null,
      "outputs": []
    },
    {
      "cell_type": "code",
      "source": [
        "from sklearn.metrics import confusion_matrix, f1_score\n",
        "import pandas as pd\n",
        "conf_matrix = confusion_matrix(tf.math.argmax(correct_labels, axis=1), predicted_labels.numpy())\n",
        "confusion_df = pd.DataFrame(conf_matrix, index=[\"Not Fall\", \"Fall\"], columns=[\"Not Fall\", \"Fall\"])\n",
        "display(confusion_df)\n",
        "f1_score(tf.math.argmax(correct_labels, axis=1), predicted_labels.numpy(), average=None)"
      ],
      "metadata": {
        "colab": {
          "base_uri": "https://localhost:8080/",
          "height": 142
        },
        "id": "z20v8D1hPjYc",
        "outputId": "65ebb94e-26d8-475b-c780-cab4c67548cc"
      },
      "execution_count": null,
      "outputs": [
        {
          "output_type": "display_data",
          "data": {
            "text/plain": [
              "          Not Fall  Fall\n",
              "Not Fall      7482   179\n",
              "Fall             1  9520"
            ],
            "text/html": [
              "\n",
              "  <div id=\"df-a95e5811-5f49-440f-883a-7ca8fd923f9a\" class=\"colab-df-container\">\n",
              "    <div>\n",
              "<style scoped>\n",
              "    .dataframe tbody tr th:only-of-type {\n",
              "        vertical-align: middle;\n",
              "    }\n",
              "\n",
              "    .dataframe tbody tr th {\n",
              "        vertical-align: top;\n",
              "    }\n",
              "\n",
              "    .dataframe thead th {\n",
              "        text-align: right;\n",
              "    }\n",
              "</style>\n",
              "<table border=\"1\" class=\"dataframe\">\n",
              "  <thead>\n",
              "    <tr style=\"text-align: right;\">\n",
              "      <th></th>\n",
              "      <th>Not Fall</th>\n",
              "      <th>Fall</th>\n",
              "    </tr>\n",
              "  </thead>\n",
              "  <tbody>\n",
              "    <tr>\n",
              "      <th>Not Fall</th>\n",
              "      <td>7482</td>\n",
              "      <td>179</td>\n",
              "    </tr>\n",
              "    <tr>\n",
              "      <th>Fall</th>\n",
              "      <td>1</td>\n",
              "      <td>9520</td>\n",
              "    </tr>\n",
              "  </tbody>\n",
              "</table>\n",
              "</div>\n",
              "    <div class=\"colab-df-buttons\">\n",
              "\n",
              "  <div class=\"colab-df-container\">\n",
              "    <button class=\"colab-df-convert\" onclick=\"convertToInteractive('df-a95e5811-5f49-440f-883a-7ca8fd923f9a')\"\n",
              "            title=\"Convert this dataframe to an interactive table.\"\n",
              "            style=\"display:none;\">\n",
              "\n",
              "  <svg xmlns=\"http://www.w3.org/2000/svg\" height=\"24px\" viewBox=\"0 -960 960 960\">\n",
              "    <path d=\"M120-120v-720h720v720H120Zm60-500h600v-160H180v160Zm220 220h160v-160H400v160Zm0 220h160v-160H400v160ZM180-400h160v-160H180v160Zm440 0h160v-160H620v160ZM180-180h160v-160H180v160Zm440 0h160v-160H620v160Z\"/>\n",
              "  </svg>\n",
              "    </button>\n",
              "\n",
              "  <style>\n",
              "    .colab-df-container {\n",
              "      display:flex;\n",
              "      gap: 12px;\n",
              "    }\n",
              "\n",
              "    .colab-df-convert {\n",
              "      background-color: #E8F0FE;\n",
              "      border: none;\n",
              "      border-radius: 50%;\n",
              "      cursor: pointer;\n",
              "      display: none;\n",
              "      fill: #1967D2;\n",
              "      height: 32px;\n",
              "      padding: 0 0 0 0;\n",
              "      width: 32px;\n",
              "    }\n",
              "\n",
              "    .colab-df-convert:hover {\n",
              "      background-color: #E2EBFA;\n",
              "      box-shadow: 0px 1px 2px rgba(60, 64, 67, 0.3), 0px 1px 3px 1px rgba(60, 64, 67, 0.15);\n",
              "      fill: #174EA6;\n",
              "    }\n",
              "\n",
              "    .colab-df-buttons div {\n",
              "      margin-bottom: 4px;\n",
              "    }\n",
              "\n",
              "    [theme=dark] .colab-df-convert {\n",
              "      background-color: #3B4455;\n",
              "      fill: #D2E3FC;\n",
              "    }\n",
              "\n",
              "    [theme=dark] .colab-df-convert:hover {\n",
              "      background-color: #434B5C;\n",
              "      box-shadow: 0px 1px 3px 1px rgba(0, 0, 0, 0.15);\n",
              "      filter: drop-shadow(0px 1px 2px rgba(0, 0, 0, 0.3));\n",
              "      fill: #FFFFFF;\n",
              "    }\n",
              "  </style>\n",
              "\n",
              "    <script>\n",
              "      const buttonEl =\n",
              "        document.querySelector('#df-a95e5811-5f49-440f-883a-7ca8fd923f9a button.colab-df-convert');\n",
              "      buttonEl.style.display =\n",
              "        google.colab.kernel.accessAllowed ? 'block' : 'none';\n",
              "\n",
              "      async function convertToInteractive(key) {\n",
              "        const element = document.querySelector('#df-a95e5811-5f49-440f-883a-7ca8fd923f9a');\n",
              "        const dataTable =\n",
              "          await google.colab.kernel.invokeFunction('convertToInteractive',\n",
              "                                                    [key], {});\n",
              "        if (!dataTable) return;\n",
              "\n",
              "        const docLinkHtml = 'Like what you see? Visit the ' +\n",
              "          '<a target=\"_blank\" href=https://colab.research.google.com/notebooks/data_table.ipynb>data table notebook</a>'\n",
              "          + ' to learn more about interactive tables.';\n",
              "        element.innerHTML = '';\n",
              "        dataTable['output_type'] = 'display_data';\n",
              "        await google.colab.output.renderOutput(dataTable, element);\n",
              "        const docLink = document.createElement('div');\n",
              "        docLink.innerHTML = docLinkHtml;\n",
              "        element.appendChild(docLink);\n",
              "      }\n",
              "    </script>\n",
              "  </div>\n",
              "\n",
              "\n",
              "<div id=\"df-13fa2b8a-5cfb-42a4-b2a2-e2c64b3bee2f\">\n",
              "  <button class=\"colab-df-quickchart\" onclick=\"quickchart('df-13fa2b8a-5cfb-42a4-b2a2-e2c64b3bee2f')\"\n",
              "            title=\"Suggest charts\"\n",
              "            style=\"display:none;\">\n",
              "\n",
              "<svg xmlns=\"http://www.w3.org/2000/svg\" height=\"24px\"viewBox=\"0 0 24 24\"\n",
              "     width=\"24px\">\n",
              "    <g>\n",
              "        <path d=\"M19 3H5c-1.1 0-2 .9-2 2v14c0 1.1.9 2 2 2h14c1.1 0 2-.9 2-2V5c0-1.1-.9-2-2-2zM9 17H7v-7h2v7zm4 0h-2V7h2v10zm4 0h-2v-4h2v4z\"/>\n",
              "    </g>\n",
              "</svg>\n",
              "  </button>\n",
              "\n",
              "<style>\n",
              "  .colab-df-quickchart {\n",
              "      --bg-color: #E8F0FE;\n",
              "      --fill-color: #1967D2;\n",
              "      --hover-bg-color: #E2EBFA;\n",
              "      --hover-fill-color: #174EA6;\n",
              "      --disabled-fill-color: #AAA;\n",
              "      --disabled-bg-color: #DDD;\n",
              "  }\n",
              "\n",
              "  [theme=dark] .colab-df-quickchart {\n",
              "      --bg-color: #3B4455;\n",
              "      --fill-color: #D2E3FC;\n",
              "      --hover-bg-color: #434B5C;\n",
              "      --hover-fill-color: #FFFFFF;\n",
              "      --disabled-bg-color: #3B4455;\n",
              "      --disabled-fill-color: #666;\n",
              "  }\n",
              "\n",
              "  .colab-df-quickchart {\n",
              "    background-color: var(--bg-color);\n",
              "    border: none;\n",
              "    border-radius: 50%;\n",
              "    cursor: pointer;\n",
              "    display: none;\n",
              "    fill: var(--fill-color);\n",
              "    height: 32px;\n",
              "    padding: 0;\n",
              "    width: 32px;\n",
              "  }\n",
              "\n",
              "  .colab-df-quickchart:hover {\n",
              "    background-color: var(--hover-bg-color);\n",
              "    box-shadow: 0 1px 2px rgba(60, 64, 67, 0.3), 0 1px 3px 1px rgba(60, 64, 67, 0.15);\n",
              "    fill: var(--button-hover-fill-color);\n",
              "  }\n",
              "\n",
              "  .colab-df-quickchart-complete:disabled,\n",
              "  .colab-df-quickchart-complete:disabled:hover {\n",
              "    background-color: var(--disabled-bg-color);\n",
              "    fill: var(--disabled-fill-color);\n",
              "    box-shadow: none;\n",
              "  }\n",
              "\n",
              "  .colab-df-spinner {\n",
              "    border: 2px solid var(--fill-color);\n",
              "    border-color: transparent;\n",
              "    border-bottom-color: var(--fill-color);\n",
              "    animation:\n",
              "      spin 1s steps(1) infinite;\n",
              "  }\n",
              "\n",
              "  @keyframes spin {\n",
              "    0% {\n",
              "      border-color: transparent;\n",
              "      border-bottom-color: var(--fill-color);\n",
              "      border-left-color: var(--fill-color);\n",
              "    }\n",
              "    20% {\n",
              "      border-color: transparent;\n",
              "      border-left-color: var(--fill-color);\n",
              "      border-top-color: var(--fill-color);\n",
              "    }\n",
              "    30% {\n",
              "      border-color: transparent;\n",
              "      border-left-color: var(--fill-color);\n",
              "      border-top-color: var(--fill-color);\n",
              "      border-right-color: var(--fill-color);\n",
              "    }\n",
              "    40% {\n",
              "      border-color: transparent;\n",
              "      border-right-color: var(--fill-color);\n",
              "      border-top-color: var(--fill-color);\n",
              "    }\n",
              "    60% {\n",
              "      border-color: transparent;\n",
              "      border-right-color: var(--fill-color);\n",
              "    }\n",
              "    80% {\n",
              "      border-color: transparent;\n",
              "      border-right-color: var(--fill-color);\n",
              "      border-bottom-color: var(--fill-color);\n",
              "    }\n",
              "    90% {\n",
              "      border-color: transparent;\n",
              "      border-bottom-color: var(--fill-color);\n",
              "    }\n",
              "  }\n",
              "</style>\n",
              "\n",
              "  <script>\n",
              "    async function quickchart(key) {\n",
              "      const quickchartButtonEl =\n",
              "        document.querySelector('#' + key + ' button');\n",
              "      quickchartButtonEl.disabled = true;  // To prevent multiple clicks.\n",
              "      quickchartButtonEl.classList.add('colab-df-spinner');\n",
              "      try {\n",
              "        const charts = await google.colab.kernel.invokeFunction(\n",
              "            'suggestCharts', [key], {});\n",
              "      } catch (error) {\n",
              "        console.error('Error during call to suggestCharts:', error);\n",
              "      }\n",
              "      quickchartButtonEl.classList.remove('colab-df-spinner');\n",
              "      quickchartButtonEl.classList.add('colab-df-quickchart-complete');\n",
              "    }\n",
              "    (() => {\n",
              "      let quickchartButtonEl =\n",
              "        document.querySelector('#df-13fa2b8a-5cfb-42a4-b2a2-e2c64b3bee2f button');\n",
              "      quickchartButtonEl.style.display =\n",
              "        google.colab.kernel.accessAllowed ? 'block' : 'none';\n",
              "    })();\n",
              "  </script>\n",
              "</div>\n",
              "\n",
              "  <div id=\"id_53f1ea8d-5a64-491c-b025-e88da0c756b8\">\n",
              "    <style>\n",
              "      .colab-df-generate {\n",
              "        background-color: #E8F0FE;\n",
              "        border: none;\n",
              "        border-radius: 50%;\n",
              "        cursor: pointer;\n",
              "        display: none;\n",
              "        fill: #1967D2;\n",
              "        height: 32px;\n",
              "        padding: 0 0 0 0;\n",
              "        width: 32px;\n",
              "      }\n",
              "\n",
              "      .colab-df-generate:hover {\n",
              "        background-color: #E2EBFA;\n",
              "        box-shadow: 0px 1px 2px rgba(60, 64, 67, 0.3), 0px 1px 3px 1px rgba(60, 64, 67, 0.15);\n",
              "        fill: #174EA6;\n",
              "      }\n",
              "\n",
              "      [theme=dark] .colab-df-generate {\n",
              "        background-color: #3B4455;\n",
              "        fill: #D2E3FC;\n",
              "      }\n",
              "\n",
              "      [theme=dark] .colab-df-generate:hover {\n",
              "        background-color: #434B5C;\n",
              "        box-shadow: 0px 1px 3px 1px rgba(0, 0, 0, 0.15);\n",
              "        filter: drop-shadow(0px 1px 2px rgba(0, 0, 0, 0.3));\n",
              "        fill: #FFFFFF;\n",
              "      }\n",
              "    </style>\n",
              "    <button class=\"colab-df-generate\" onclick=\"generateWithVariable('confusion_df')\"\n",
              "            title=\"Generate code using this dataframe.\"\n",
              "            style=\"display:none;\">\n",
              "\n",
              "  <svg xmlns=\"http://www.w3.org/2000/svg\" height=\"24px\"viewBox=\"0 0 24 24\"\n",
              "       width=\"24px\">\n",
              "    <path d=\"M7,19H8.4L18.45,9,17,7.55,7,17.6ZM5,21V16.75L18.45,3.32a2,2,0,0,1,2.83,0l1.4,1.43a1.91,1.91,0,0,1,.58,1.4,1.91,1.91,0,0,1-.58,1.4L9.25,21ZM18.45,9,17,7.55Zm-12,3A5.31,5.31,0,0,0,4.9,8.1,5.31,5.31,0,0,0,1,6.5,5.31,5.31,0,0,0,4.9,4.9,5.31,5.31,0,0,0,6.5,1,5.31,5.31,0,0,0,8.1,4.9,5.31,5.31,0,0,0,12,6.5,5.46,5.46,0,0,0,6.5,12Z\"/>\n",
              "  </svg>\n",
              "    </button>\n",
              "    <script>\n",
              "      (() => {\n",
              "      const buttonEl =\n",
              "        document.querySelector('#id_53f1ea8d-5a64-491c-b025-e88da0c756b8 button.colab-df-generate');\n",
              "      buttonEl.style.display =\n",
              "        google.colab.kernel.accessAllowed ? 'block' : 'none';\n",
              "\n",
              "      buttonEl.onclick = () => {\n",
              "        google.colab.notebook.generateWithVariable('confusion_df');\n",
              "      }\n",
              "      })();\n",
              "    </script>\n",
              "  </div>\n",
              "\n",
              "    </div>\n",
              "  </div>\n"
            ],
            "application/vnd.google.colaboratory.intrinsic+json": {
              "type": "dataframe",
              "variable_name": "confusion_df",
              "summary": "{\n  \"name\": \"confusion_df\",\n  \"rows\": 2,\n  \"fields\": [\n    {\n      \"column\": \"Not Fall\",\n      \"properties\": {\n        \"dtype\": \"number\",\n        \"std\": 5289,\n        \"min\": 1,\n        \"max\": 7482,\n        \"num_unique_values\": 2,\n        \"samples\": [\n          1,\n          7482\n        ],\n        \"semantic_type\": \"\",\n        \"description\": \"\"\n      }\n    },\n    {\n      \"column\": \"Fall\",\n      \"properties\": {\n        \"dtype\": \"number\",\n        \"std\": 6605,\n        \"min\": 179,\n        \"max\": 9520,\n        \"num_unique_values\": 2,\n        \"samples\": [\n          9520,\n          179\n        ],\n        \"semantic_type\": \"\",\n        \"description\": \"\"\n      }\n    }\n  ]\n}"
            }
          },
          "metadata": {}
        },
        {
          "output_type": "execute_result",
          "data": {
            "text/plain": [
              "array([0.9881141 , 0.99063476])"
            ]
          },
          "metadata": {},
          "execution_count": 32
        }
      ]
    }
  ],
  "metadata": {
    "colab": {
      "provenance": [],
      "gpuType": "T4"
    },
    "kernelspec": {
      "display_name": "Python 3",
      "name": "python3"
    },
    "language_info": {
      "name": "python"
    },
    "accelerator": "GPU"
  },
  "nbformat": 4,
  "nbformat_minor": 0
}